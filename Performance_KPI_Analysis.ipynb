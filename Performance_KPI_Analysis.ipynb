{
 "cells": [
  {
   "cell_type": "code",
   "execution_count": null,
   "id": "9c799d37",
   "metadata": {},
   "outputs": [],
   "source": [
    "import argparse\n",
    "from pathlib import Path\n",
    "from win32com import client\n",
    "import os\n",
    "from PyPDF2 import PdfFileReader, PdfFileWriter\n",
    "import json\n",
    "import pandas as pd"
   ]
  },
  {
   "cell_type": "code",
   "execution_count": null,
   "id": "629cd95e",
   "metadata": {},
   "outputs": [],
   "source": [
    "info_df = pd.read_excel('Evaluation Sheet 21-22.xlsx', sheet_name='Evaluation')[['Name', 'Campus', 'School']].dropna(subset=['Name'])"
   ]
  },
  {
   "cell_type": "code",
   "execution_count": null,
   "id": "68972126",
   "metadata": {},
   "outputs": [],
   "source": [
    "info_js = {row['Name'].strip(): {\"Campus\": row['Campus'], \"School\": row['School']} for idx, row in info_df.iterrows()}"
   ]
  },
  {
   "cell_type": "code",
   "execution_count": null,
   "id": "b87f5f25",
   "metadata": {},
   "outputs": [],
   "source": [
    "def create_pdf(file_name, sheet_name_or_number):\n",
    "    excel = client.Dispatch(\"Excel.Application\")\n",
    "    excel.ScreenUpdating = False\n",
    "    excel.DisplayAlerts = False\n",
    "    excel.EnableEvents = False\n",
    "    # Read Excel File\n",
    "    sheets = excel.Workbooks.Open(os.path.join(os.getcwd(), file_name + '.xlsx'))\n",
    "    work_sheets = sheets.Worksheets[sheet_name_or_number]\n",
    "    # Convert into PDF File\n",
    "    work_sheets.ExportAsFixedFormat(0, os.path.join(os.getcwd(), file_name + \".pdf\"))"
   ]
  },
  {
   "cell_type": "code",
   "execution_count": null,
   "id": "dcb7f2ce",
   "metadata": {},
   "outputs": [],
   "source": [
    "def split_pdf(file_name, info_json, save_file_name = None, folder_name = \"Names\"):\n",
    "    if save_file_name == None:\n",
    "        save_file_name = file_name\n",
    "    output_folder_path = '{}/'.format(folder_name)\n",
    "    Path(output_folder_path).mkdir(parents=True, exist_ok=True)\n",
    "    print(\"The '{}/' folder has been created\".format(folder_name))\n",
    "\n",
    "    pdf = PdfFileReader(os.path.join(os.getcwd(), file_name + \".pdf\"))\n",
    "\n",
    "    location = None\n",
    "    for page_num in range(pdf.numPages):\n",
    "        pdfWriter = PdfFileWriter()\n",
    "        pdfWriter.addPage(pdf.getPage(page_num))\n",
    "        page_content = pdf.getPage(page_num).extractText()\n",
    "        list_of_names = page_content.encode('utf-8').decode('utf-8').split(\"\\n\")\n",
    "        if location == None:\n",
    "            for index, name in enumerate(list_of_names):\n",
    "                if 'name' in name.lower():\n",
    "                    location = index + 1\n",
    "                    break\n",
    "        try:\n",
    "            Name = list_of_names[location].strip()\n",
    "        except:\n",
    "            continue\n",
    "            \n",
    "        if 'name' not in list_of_names[location - 1].lower().strip():\n",
    "            continue\n",
    "            \n",
    "        if Name == '#N/A':\n",
    "            continue\n",
    "\n",
    "        try:\n",
    "            file_location = \"{}{}/{}/{}/\".format(output_folder_path, info_js[Name]['Campus'], info_js[Name]['School'], Name)\n",
    "        except:\n",
    "            print(\"\\t\\tCouldn't find {}\".format(Name))\n",
    "            continue\n",
    "        print(\"\\t\" + file_location + '{}.pdf'.format(save_file_name))\n",
    "        Path(file_location).mkdir(parents=True, exist_ok=True)\n",
    "        with open(file_location + '{}.pdf'.format(save_file_name), 'wb') as f:\n",
    "            pdfWriter.write(f)"
   ]
  },
  {
   "cell_type": "code",
   "execution_count": null,
   "id": "5c817756",
   "metadata": {},
   "outputs": [],
   "source": [
    "file_name = ['Evaluation Sheet 21-22.xlsx']\n",
    "sheet_name = ['Evaluation Forms Fall']\n",
    "for index, name in enumerate(file_name):\n",
    "    create_pdf(str(Path(name).with_suffix('')), sheet_name[index])\n",
    "    split_pdf(str(Path(name).with_suffix('')), info_js, 'Performance Evaluation Fall 21-22')"
   ]
  },
  {
   "cell_type": "code",
   "execution_count": null,
   "id": "bd8a1b13",
   "metadata": {},
   "outputs": [],
   "source": []
  }
 ],
 "metadata": {
  "kernelspec": {
   "display_name": "Python 3 (ipykernel)",
   "language": "python",
   "name": "python3"
  },
  "language_info": {
   "codemirror_mode": {
    "name": "ipython",
    "version": 3
   },
   "file_extension": ".py",
   "mimetype": "text/x-python",
   "name": "python",
   "nbconvert_exporter": "python",
   "pygments_lexer": "ipython3",
   "version": "3.9.7"
  }
 },
 "nbformat": 4,
 "nbformat_minor": 5
}
